{
 "cells": [
  {
   "cell_type": "code",
   "execution_count": 1,
   "metadata": {},
   "outputs": [],
   "source": [
    "import cv2"
   ]
  },
  {
   "cell_type": "code",
   "execution_count": 2,
   "metadata": {},
   "outputs": [
    {
     "name": "stderr",
     "output_type": "stream",
     "text": [
      "2023-07-30 22:14:10.324 Python[10602:6706574] _TIPropertyValueIsValid called with 4 on nil context!\n",
      "2023-07-30 22:14:10.324 Python[10602:6706574] imkxpc_getApplicationProperty:reply: called with incorrect property value 4, bailing.\n",
      "2023-07-30 22:14:10.324 Python[10602:6706574] Text input context does not respond to _valueForTIProperty:\n",
      "2023-07-30 22:14:10.325 Python[10602:6706574] _TIPropertyValueIsValid called with 4 on nil context!\n",
      "2023-07-30 22:14:10.325 Python[10602:6706574] imkxpc_getApplicationProperty:reply: called with incorrect property value 4, bailing.\n",
      "2023-07-30 22:14:10.325 Python[10602:6706574] Text input context does not respond to _valueForTIProperty:\n",
      "2023-07-30 22:14:10.340 Python[10602:6706574] _TIPropertyValueIsValid called with 4 on nil context!\n",
      "2023-07-30 22:14:10.340 Python[10602:6706574] imkxpc_getApplicationProperty:reply: called with incorrect property value 4, bailing.\n",
      "2023-07-30 22:14:10.340 Python[10602:6706574] Text input context does not respond to _valueForTIProperty:\n"
     ]
    },
    {
     "ename": "",
     "evalue": "",
     "output_type": "error",
     "traceback": [
      "\u001b[1;31mThe Kernel crashed while executing code in the the current cell or a previous cell. Please review the code in the cell(s) to identify a possible cause of the failure. Click <a href='https://aka.ms/vscodeJupyterKernelCrash'>here</a> for more info. View Jupyter <a href='command:jupyter.viewOutput'>log</a> for further details."
     ]
    }
   ],
   "source": [
    "img = cv2.imread('../DATA/00-puppy.jpg')\n",
    "cv2.imshow(\"puppy\",img)\n",
    "cv2.waitKey(0)\n",
    "cv2.destroyAllWindows()  # 销毁所有由OpenCV创建的窗口"
   ]
  }
 ],
 "metadata": {
  "kernelspec": {
   "display_name": "Python 3",
   "language": "python",
   "name": "python3"
  },
  "language_info": {
   "codemirror_mode": {
    "name": "ipython",
    "version": 3
   },
   "file_extension": ".py",
   "mimetype": "text/x-python",
   "name": "python",
   "nbconvert_exporter": "python",
   "pygments_lexer": "ipython3",
   "version": "3.9.6"
  },
  "orig_nbformat": 4
 },
 "nbformat": 4,
 "nbformat_minor": 2
}
