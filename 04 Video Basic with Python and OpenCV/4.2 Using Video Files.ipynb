{
 "cells": [
  {
   "cell_type": "code",
   "execution_count": 4,
   "metadata": {},
   "outputs": [],
   "source": [
    "import cv2\n",
    "import time"
   ]
  },
  {
   "cell_type": "code",
   "execution_count": null,
   "metadata": {},
   "outputs": [],
   "source": [
    "#这个视频会播放的很快，因为目的是给电脑看的，不是给人看的\n",
    "cap = cv2.VideoCapture('/Users/sunyueqian/Desktop/Python Computer Vison/myTestVideo.mp4')\n",
    "\n",
    "if(cap.isOpened() == False):\n",
    "    print(\"ERROR FILE NOT FOUND or WRONG CODEC USED\")\n",
    "while cap.isOpened():\n",
    "    ret,frame = cap.read()\n",
    "    if ret == True:\n",
    "\n",
    "        #the video is recorded in 20FPS, so set it delay 1/20 for each frame to display\n",
    "        time.sleep(1/20)\n",
    "\n",
    "        cv2.imshow(\"frame\", frame)\n",
    "        if (cv2.waitKey(1) & 0xFF == ord('q')):\n",
    "            break\n",
    "    else:\n",
    "        break\n",
    "cap.release()\n",
    "cv2.destroyAllWindows()"
   ]
  }
 ],
 "metadata": {
  "kernelspec": {
   "display_name": "Python 3",
   "language": "python",
   "name": "python3"
  },
  "language_info": {
   "codemirror_mode": {
    "name": "ipython",
    "version": 3
   },
   "file_extension": ".py",
   "mimetype": "text/x-python",
   "name": "python",
   "nbconvert_exporter": "python",
   "pygments_lexer": "ipython3",
   "version": "3.9.6"
  },
  "orig_nbformat": 4
 },
 "nbformat": 4,
 "nbformat_minor": 2
}
