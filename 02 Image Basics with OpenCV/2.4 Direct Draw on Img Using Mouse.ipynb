{
 "cells": [
  {
   "cell_type": "code",
   "execution_count": 2,
   "metadata": {},
   "outputs": [],
   "source": [
    "import cv2\n",
    "import numpy as np  \n",
    "\n",
    "##############\n",
    "## FUNCTION ##\n",
    "############## \n",
    "\n",
    "#event is what mouse does, like a right click or left click. x, y is the coordinate\n",
    "def draw_circle(event,x,y,flags,param):\n",
    "    #mouse event is left mouse buttom click down\n",
    "    if event == cv2.EVENT_LBUTTONDOWN:\n",
    "        cv2.circle(img,(x,y),radius=100,color=(0,255,0),thickness=-1,)\n",
    "\n",
    "#connect this function with the img\n",
    "cv2.namedWindow(winname=\"My_Drawing\")\n",
    "#setMouseCallback会返回鼠标情况，包括event，x,y坐标\n",
    "cv2.setMouseCallback('My_Drawing',draw_circle)\n",
    "\n",
    "#############################\n",
    "## SHOWING IMG WITH OPENCV ##\n",
    "#############################\n",
    "\n",
    "img = np.zeros(shape=(512,512,3),dtype=np.int8)\n",
    "while True:\n",
    "    cv2.imshow(\"My_Drawing\", img)\n",
    "    if(cv2.waitKey(20) & 0xFF == 27):\n",
    "        break\n",
    "cv2.destroyAllWindows()"
   ]
  }
 ],
 "metadata": {
  "kernelspec": {
   "display_name": "Python 3",
   "language": "python",
   "name": "python3"
  },
  "language_info": {
   "codemirror_mode": {
    "name": "ipython",
    "version": 3
   },
   "file_extension": ".py",
   "mimetype": "text/x-python",
   "name": "python",
   "nbconvert_exporter": "python",
   "pygments_lexer": "ipython3",
   "version": "3.9.6"
  },
  "orig_nbformat": 4
 },
 "nbformat": 4,
 "nbformat_minor": 2
}
